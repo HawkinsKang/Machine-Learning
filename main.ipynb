{
 "cells": [
  {
   "cell_type": "markdown",
   "metadata": {},
   "source": [
    "### 1、线性回归<P>\n",
    "目的：<P>\n",
    "● 熟悉python的用法<P>\n",
    "● 熟悉numpy<P>\n",
    "要求：<P>\n",
    "● 使用numpy 实现线性回归模型<P>\n",
    "● 数据要求：<P>\n",
    "\t● $x = (-10,10),step=1000,y = w*x+b+\\mu$<p>\n",
    "\t● 教材数据<P>\n",
    "\t● 任意数据集数据<P>\n",
    "● 代码要求，使用向量化数据实现<P>\n",
    "● 文档要求：写出推导过程<P>"
   ]
  },
  {
   "cell_type": "code",
   "execution_count": 91,
   "metadata": {},
   "outputs": [],
   "source": [
    "import numpy as np\n",
    "import matplotlib.pyplot as plt\n",
    "from sklearn.metrics import mean_squared_error\n",
    "import pandas as pd"
   ]
  },
  {
   "cell_type": "code",
   "execution_count": 92,
   "metadata": {},
   "outputs": [
    {
     "name": "stdout",
     "output_type": "stream",
     "text": [
      "0.24629904055523147\n"
     ]
    },
    {
     "data": {
      "image/png": "[encoded data removed]",
      "text/plain": [
       "<Figure size 432x288 with 1 Axes>"
      ]
     },
     "metadata": {
      "needs_background": "light"
     },
     "output_type": "display_data"
    }
   ],
   "source": [
    "######################### data ###########################\n",
    "x = np.linspace(-10,10,1000)\n",
    "mu = np.random.rand(len(x)) #噪声点\n",
    "y = 3*x+1+mu               #待拟合的数据\n",
    "y_true = 3*x+1             #真实数据\n",
    "\n",
    "\n",
    "###################### main code #########################\n",
    "ones = np.ones((len(x),1))#生成单位向量\n",
    "length = x.shape[0]       #获得向量的行数\n",
    "x = x.reshape(length,1)   #统一shape\n",
    "A = np.hstack((x,ones))   #拼接成有一列全为1的矩阵\n",
    "b = y.reshape((len(x),1)) #统一shape\n",
    "\n",
    "def leastSquarefit(A,b):  #最小二乘拟合的矩阵运算\n",
    "    B = A.T @ b\n",
    "    AA = np.linalg.inv(A.T @ A)\n",
    "    ans = A @ AA @ B\n",
    "    return ans\n",
    "\n",
    "y_fit = leastSquarefit(A,b)\n",
    "mse = mean_squared_error(y_fit,y_true)\n",
    "print(mse)\n",
    "\n",
    "##################### 结果可视化展示 #########################\n",
    "plt.plot(x,y_true,color='m',linestyle='',marker='*')\n",
    "plt.plot(x,y_fit,color='b') \n",
    "plt.show()"
   ]
  },
  {
   "cell_type": "code",
   "execution_count": 93,
   "metadata": {},
   "outputs": [
    {
     "name": "stdout",
     "output_type": "stream",
     "text": [
      "1.2167108977147485\n"
     ]
    },
    {
     "data": {
      "image/png": "[encoded data removed]",
      "text/plain": [
       "<Figure size 432x288 with 1 Axes>"
      ]
     },
     "metadata": {
      "needs_background": "light"
     },
     "output_type": "display_data"
    }
   ],
   "source": [
    "################################## 教材数据 ################################\n",
    "x = np.array([10.95,12.14,13.22,13.87,15.06,16.30,17.01,17.93,19.01,20.01,\n",
    "              21.04,22.10,23.17,24.07,25.00,25.95,27.10,28.01,29.06,30.05])\n",
    "y = np.array([11.18,10.43,12.36,14.15,15.73,16.40,18.86,16.13,18.21,18.37,\n",
    "              22.61,19.83,22.67,22.70,25.16,25.55,28.21,28.12,28.32,29.18])\n",
    "\n",
    "###################### main code #########################\n",
    "ones = np.ones((len(x),1))#生成单位向量\n",
    "length = x.shape[0]       #获得向量的行数\n",
    "x = x.reshape(length,1)   #统一shape\n",
    "A = np.hstack((x,ones))   #拼接成有一列全为1的矩阵\n",
    "b = y.reshape((len(x),1)) #统一shape\n",
    "\n",
    "def leastSquarefit(A,b):  #最小二乘拟合的矩阵运算\n",
    "    B = A.T @ b\n",
    "    AA = np.linalg.inv(A.T @ A)\n",
    "    ans = A @ AA @ B\n",
    "    return ans\n",
    "\n",
    "y_fit = leastSquarefit(A,b)\n",
    "mse = mean_squared_error(y_fit,y)\n",
    "print(mse)\n",
    "\n",
    "##################### 结果可视化展示 #########################\n",
    "plt.plot(x,y,color='m',linestyle='',marker='*')\n",
    "plt.plot(x,y_fit,color='b') \n",
    "plt.show()"
   ]
  },
  {
   "cell_type": "code",
   "execution_count": 94,
   "metadata": {},
   "outputs": [
    {
     "data": {
      "text/html": [
       "<div>\n",
       "<style scoped>\n",
       "    .dataframe tbody tr th:only-of-type {\n",
       "        vertical-align: middle;\n",
       "    }\n",
       "\n",
       "    .dataframe tbody tr th {\n",
       "        vertical-align: top;\n",
       "    }\n",
       "\n",
       "    .dataframe thead th {\n",
       "        text-align: right;\n",
       "    }\n",
       "</style>\n",
       "<table border=\"1\" class=\"dataframe\">\n",
       "  <thead>\n",
       "    <tr style=\"text-align: right;\">\n",
       "      <th></th>\n",
       "      <th>unix</th>\n",
       "      <th>date</th>\n",
       "      <th>symbol</th>\n",
       "      <th>open</th>\n",
       "      <th>high</th>\n",
       "      <th>low</th>\n",
       "      <th>close</th>\n",
       "      <th>Volume BTC</th>\n",
       "      <th>Volume USDT</th>\n",
       "      <th>tradecount</th>\n",
       "    </tr>\n",
       "  </thead>\n",
       "  <tbody>\n",
       "    <tr>\n",
       "      <th>1361</th>\n",
       "      <td>1.620000e+12</td>\n",
       "      <td>2021/5/8 0:00</td>\n",
       "      <td>BTC/USDT</td>\n",
       "      <td>57315.49</td>\n",
       "      <td>59500.00</td>\n",
       "      <td>56900.00</td>\n",
       "      <td>58862.05</td>\n",
       "      <td>69709.906030</td>\n",
       "      <td>4.079554e+09</td>\n",
       "      <td>2311378.0</td>\n",
       "    </tr>\n",
       "    <tr>\n",
       "      <th>1362</th>\n",
       "      <td>1.620000e+12</td>\n",
       "      <td>2021/5/9 0:00</td>\n",
       "      <td>BTC/USDT</td>\n",
       "      <td>58866.53</td>\n",
       "      <td>59300.00</td>\n",
       "      <td>56235.66</td>\n",
       "      <td>58240.84</td>\n",
       "      <td>69806.119910</td>\n",
       "      <td>4.043553e+09</td>\n",
       "      <td>2170139.0</td>\n",
       "    </tr>\n",
       "    <tr>\n",
       "      <th>1363</th>\n",
       "      <td>1.620000e+12</td>\n",
       "      <td>2021/5/10 0:00</td>\n",
       "      <td>BTC/USDT</td>\n",
       "      <td>58240.83</td>\n",
       "      <td>59500.00</td>\n",
       "      <td>53400.00</td>\n",
       "      <td>55816.14</td>\n",
       "      <td>89586.349250</td>\n",
       "      <td>5.131783e+09</td>\n",
       "      <td>2575419.0</td>\n",
       "    </tr>\n",
       "    <tr>\n",
       "      <th>1364</th>\n",
       "      <td>1.620000e+12</td>\n",
       "      <td>2021/5/11 0:00</td>\n",
       "      <td>BTC/USDT</td>\n",
       "      <td>55816.14</td>\n",
       "      <td>56862.43</td>\n",
       "      <td>54370.00</td>\n",
       "      <td>56670.02</td>\n",
       "      <td>64329.540550</td>\n",
       "      <td>3.583031e+09</td>\n",
       "      <td>1911480.0</td>\n",
       "    </tr>\n",
       "    <tr>\n",
       "      <th>1365</th>\n",
       "      <td>1.620000e+12</td>\n",
       "      <td>2021/5/12 0:00</td>\n",
       "      <td>BTC/USDT</td>\n",
       "      <td>56670.02</td>\n",
       "      <td>56704.83</td>\n",
       "      <td>56555.12</td>\n",
       "      <td>56650.96</td>\n",
       "      <td>145.325282</td>\n",
       "      <td>8.230297e+06</td>\n",
       "      <td>5679.0</td>\n",
       "    </tr>\n",
       "  </tbody>\n",
       "</table>\n",
       "</div>"
      ],
      "text/plain": [
       "              unix            date    symbol      open      high       low  \\\n",
       "1361  1.620000e+12   2021/5/8 0:00  BTC/USDT  57315.49  59500.00  56900.00   \n",
       "1362  1.620000e+12   2021/5/9 0:00  BTC/USDT  58866.53  59300.00  56235.66   \n",
       "1363  1.620000e+12  2021/5/10 0:00  BTC/USDT  58240.83  59500.00  53400.00   \n",
       "1364  1.620000e+12  2021/5/11 0:00  BTC/USDT  55816.14  56862.43  54370.00   \n",
       "1365  1.620000e+12  2021/5/12 0:00  BTC/USDT  56670.02  56704.83  56555.12   \n",
       "\n",
       "         close    Volume BTC   Volume USDT  tradecount  \n",
       "1361  58862.05  69709.906030  4.079554e+09   2311378.0  \n",
       "1362  58240.84  69806.119910  4.043553e+09   2170139.0  \n",
       "1363  55816.14  89586.349250  5.131783e+09   2575419.0  \n",
       "1364  56670.02  64329.540550  3.583031e+09   1911480.0  \n",
       "1365  56650.96    145.325282  8.230297e+06      5679.0  "
      ]
     },
     "execution_count": 94,
     "metadata": {},
     "output_type": "execute_result"
    }
   ],
   "source": [
    "################################## 任意数据集数据 ################################\n",
    "\n",
    "#读取比特币数据集\n",
    "data = pd.read_csv('E:\\数据集\\比特币数据（天）\\Byday.csv')\n",
    "data.tail()"
   ]
  },
  {
   "cell_type": "code",
   "execution_count": 95,
   "metadata": {},
   "outputs": [
    {
     "name": "stdout",
     "output_type": "stream",
     "text": [
      "0.00015229690213448707\n"
     ]
    },
    {
     "data": {
      "image/png": "[encoded data removed]",
      "text/plain": [
       "<Figure size 432x288 with 1 Axes>"
      ]
     },
     "metadata": {
      "needs_background": "light"
     },
     "output_type": "display_data"
    }
   ],
   "source": [
    "#######################  数据准备 #########################\n",
    "x = np.array(data[['open']])\n",
    "y = np.array(data[['close']])\n",
    "\n",
    "##################### 数据归一化处理 ######################\n",
    "x =(x - x.min())/(x.max() - x.min())\n",
    "y =(y - y.min())/(y.max() - y.min())\n",
    "\n",
    "\n",
    "###################### main code #########################\n",
    "ones = np.ones((len(x),1))#生成单位向量\n",
    "length = x.shape[0]       #获得向量的行数\n",
    "x = x.reshape(length,1)   #统一shape\n",
    "A = np.hstack((x,ones))   #拼接成有一列全为1的矩阵\n",
    "b = y.reshape((len(x),1)) #统一shape\n",
    "\n",
    "def leastSquarefit(A,b):  #最小二乘拟合的矩阵运算\n",
    "    B = A.T @ b\n",
    "    AA = np.linalg.inv(A.T @ A)\n",
    "    ans = A @ AA @ B\n",
    "    return ans\n",
    "\n",
    "\n",
    "def MSE(y_true, y_fit):\n",
    "    return np.sum((y_true - y_fit)**2)/length\n",
    "\n",
    "y_fit = leastSquarefit(A,b)\n",
    "mse = mean_squared_error(y_fit,y)\n",
    "print(mse)\n",
    "\n",
    "##################### 结果可视化展示 #########################\n",
    "plt.plot(x,y,color='m',linestyle='',marker='*')\n",
    "plt.plot(x,y_fit,color='b') \n",
    "plt.show()"
   ]
  },
  {
   "cell_type": "markdown",
   "metadata": {},
   "source": [
    "### 实验总结<p>\n",
    "    1.使用numpy分别实现了对三种数据的线性回归\n",
    "    2.计算带bias的线性回归时，因为要生成有一列全为1的矩阵，需要首先生成一个单位向量后使用np.hstack()命令进行拼接"
   ]
  },
  {
   "attachments": {},
   "cell_type": "markdown",
   "metadata": {},
   "source": [
    "最小二乘法过程推导<p>\n",
    "$\\|A x-b\\|_{2}^{2}=x^{T} A^{T} A x-b^{T} A x-x^{T} A^{T} b+b^{T} b$<p>\n",
    "$\\frac{\\partial\\|A x-b\\|_{2}^{2}}{\\partial x}=2 A^{T} A x-2 A^{T} b=0$<p>\n",
    "$x=\\left(A^{T} A\\right)^{-1} A^{T} b$<p>"
   ]
  }
 ],
 "metadata": {
  "kernelspec": {
   "display_name": "Python 3",
   "language": "python",
   "name": "python3"
  },
  "language_info": {
   "codemirror_mode": {
    "name": "ipython",
    "version": 3
   },
   "file_extension": ".py",
   "mimetype": "text/x-python",
   "name": "python",
   "nbconvert_exporter": "python",
   "pygments_lexer": "ipython3",
   "version": "3.8.5"
  }
 },
 "nbformat": 4,
 "nbformat_minor": 4
}
